{
 "cells": [
  {
   "cell_type": "markdown",
   "id": "af790c85-2189-43da-b39a-63f969fa924e",
   "metadata": {},
   "source": [
    "Q1. What is anomaly detection and what is its purpose?\n",
    "\n",
    "\n",
    "\n",
    "Anomaly Detection:\n",
    "Anomaly detection is a technique used in data mining and machine learning to identify patterns or instances in data that do not conform to the expected behavior. The purpose of anomaly detection is to highlight unusual or rare events, patterns, or observations that deviate significantly from the norm. This can be valuable in various domains such as fraud detection, network security, system health monitoring, and quality control."
   ]
  },
  {
   "cell_type": "code",
   "execution_count": null,
   "id": "0800ccfd-58a4-4762-b1b8-8d63e9c62a56",
   "metadata": {},
   "outputs": [],
   "source": []
  },
  {
   "cell_type": "code",
   "execution_count": null,
   "id": "837d3289-432c-49f8-a4c7-92572cfc5e17",
   "metadata": {},
   "outputs": [],
   "source": []
  },
  {
   "cell_type": "markdown",
   "id": "7541558d-fd9b-4771-b4bf-39f9dd03f0c3",
   "metadata": {},
   "source": [
    "Q2. What are the key challenges in anomaly detection?\n",
    "\n",
    "\n",
    "Challenges in Anomaly Detection:\n",
    "\n",
    "Unlabeled Data: Anomalies are often rare, making it challenging to obtain labeled data for model training.\n",
    "Imbalanced Datasets: The number of normal instances is usually much higher than the number of anomalies.\n",
    "Evolution of Anomalies: Anomalies may change over time, requiring adaptive models.\n",
    "High-Dimensional Data: Anomalies detection becomes more complex as the dimensionality of the data increases.\n",
    "Interpretability: Understanding and explaining anomalies can be difficult."
   ]
  },
  {
   "cell_type": "code",
   "execution_count": null,
   "id": "84a5e8b0-af47-4110-993d-f9d71422e9fc",
   "metadata": {},
   "outputs": [],
   "source": []
  },
  {
   "cell_type": "markdown",
   "id": "1b14c13f-6ce2-4f7a-9f9f-4007a810d287",
   "metadata": {},
   "source": [
    "Q3. How does unsupervised anomaly detection differ from supervised anomaly detection?\n",
    "\n",
    "\n",
    "Unsupervised vs. Supervised Anomaly Detection:\n",
    "\n",
    "Unsupervised Anomaly Detection: Detects anomalies in unlabeled data without prior knowledge of normal behavior.\n",
    "Supervised Anomaly Detection: Requires labeled data with both normal and anomalous instances for training a model."
   ]
  },
  {
   "cell_type": "code",
   "execution_count": null,
   "id": "0e75d401-417a-43bf-9cef-9f94caf2c3d8",
   "metadata": {},
   "outputs": [],
   "source": []
  },
  {
   "cell_type": "markdown",
   "id": "62c428e2-48ce-4ca6-9bca-e1ca308c3acb",
   "metadata": {},
   "source": [
    "Q4. What are the main categories of anomaly detection algorithms?\n",
    "\n",
    "Categories of Anomaly Detection Algorithms:\n",
    "\n",
    "Statistical Methods: Based on statistical properties of the data.\n",
    "Machine Learning Approaches: Utilize algorithms to learn patterns of normal behavior.\n",
    "Proximity-Based Methods: Measure distances or similarities between data points.\n",
    "Density-Based Methods: Identify regions of lower data density."
   ]
  },
  {
   "cell_type": "code",
   "execution_count": null,
   "id": "378a953c-d7ab-4c88-b13e-a7d8a9477e40",
   "metadata": {},
   "outputs": [],
   "source": [
    "\n",
    "\n"
   ]
  },
  {
   "cell_type": "markdown",
   "id": "87dc7876-22f1-433f-8e52-dc649e24782e",
   "metadata": {},
   "source": [
    "Q5. What are the main assumptions made by distance-based anomaly detection methods?\n",
    "\n",
    "\n",
    "Assumptions in Distance-Based Anomaly Detection:\n",
    "\n",
    "Normal instances cluster together: Normal instances are expected to be closer to each other.\n",
    "Anomalies are far from normal instances: Anomalies are expected to have greater distances to normal instances."
   ]
  },
  {
   "cell_type": "code",
   "execution_count": null,
   "id": "9c97addb-de44-411c-b95f-d3db06732562",
   "metadata": {},
   "outputs": [],
   "source": []
  },
  {
   "cell_type": "markdown",
   "id": "675162cb-38ad-483e-9056-af5a9dbc6ae8",
   "metadata": {},
   "source": [
    "Q6. How does the LOF algorithm compute anomaly scores?\n",
    "\n",
    "\n",
    " LOF Algorithm Anomaly Scores:\n",
    "The Local Outlier Factor (LOF) algorithm computes anomaly scores based on the local density deviation of a data point compared to its neighbors. Higher LOF scores indicate higher likelihood of being an anomaly."
   ]
  },
  {
   "cell_type": "code",
   "execution_count": null,
   "id": "4c55cbad-a637-4881-a2ed-20d459c612f9",
   "metadata": {},
   "outputs": [],
   "source": []
  },
  {
   "cell_type": "markdown",
   "id": "7f1d179b-3828-4e49-92f6-61c7c19f1ca1",
   "metadata": {},
   "source": [
    "Q7. What are the key parameters of the Isolation Forest algorithm?\n",
    "\n",
    "\n",
    " Key Parameters of Isolation Forest:\n",
    "\n",
    "Number of Trees (n_estimators): The total number of isolation trees in the forest.\n",
    "Subsample Size (max_samples): The number of samples used to train each tree.\n",
    "Contamination: The expected proportion of anomalies in the dataset."
   ]
  },
  {
   "cell_type": "code",
   "execution_count": null,
   "id": "df62d55d-7fa2-4b33-b713-f3b785190ed7",
   "metadata": {},
   "outputs": [],
   "source": []
  },
  {
   "cell_type": "markdown",
   "id": "aa5ae4e5-0dec-4251-9cd7-8294f299b1c1",
   "metadata": {},
   "source": [
    "Q8. If a data point has only 2 neighbours of the same class within a radius of 0.5, what is its anomaly score\n",
    "using KNN with K=10?\n",
    "\n",
    "\n",
    "KNN Anomaly Score with K=10:\n",
    "If a data point has only 2 neighbors of the same class within a radius of 0.5 and K=10, the anomaly score using KNN would likely be high. The point is not well-supported by its neighbors and is distant from the majority of points in its local neighborhood."
   ]
  },
  {
   "cell_type": "code",
   "execution_count": null,
   "id": "54e09f9f-6f81-45c9-8fc4-6f348e9b0872",
   "metadata": {},
   "outputs": [],
   "source": []
  },
  {
   "cell_type": "markdown",
   "id": "6f846d54-9991-4a50-8100-8c2d311a2eb6",
   "metadata": {},
   "source": [
    "Q9. Using the Isolation Forest algorithm with 100 trees and a dataset of 3000 data points, what is the\n",
    "anomaly score for a data point that has an average path length of 5.0 compared to the average path\n",
    "length of the trees?\n",
    "\n",
    "\n",
    " Isolation Forest Anomaly Score:\n",
    "The anomaly score in the Isolation Forest algorithm is inversely proportional to the average path length. A lower average path length indicates a more isolated (anomalous) data point. Therefore, a data point with an average path length of 5.0 compared to the average path length of the trees would likely have a higher anomaly score.\n",
    "\n",
    "\n",
    "\n",
    "\n",
    "\n",
    "\n"
   ]
  },
  {
   "cell_type": "code",
   "execution_count": null,
   "id": "f6e54987-64a8-4bd3-b423-d0bb5ca91dd9",
   "metadata": {},
   "outputs": [],
   "source": []
  }
 ],
 "metadata": {
  "kernelspec": {
   "display_name": "Python 3 (ipykernel)",
   "language": "python",
   "name": "python3"
  },
  "language_info": {
   "codemirror_mode": {
    "name": "ipython",
    "version": 3
   },
   "file_extension": ".py",
   "mimetype": "text/x-python",
   "name": "python",
   "nbconvert_exporter": "python",
   "pygments_lexer": "ipython3",
   "version": "3.10.8"
  }
 },
 "nbformat": 4,
 "nbformat_minor": 5
}
